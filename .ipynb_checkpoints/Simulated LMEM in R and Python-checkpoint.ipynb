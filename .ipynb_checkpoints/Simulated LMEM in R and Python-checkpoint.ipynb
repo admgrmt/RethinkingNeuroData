{
 "cells": [
  {
   "cell_type": "markdown",
   "id": "3dcbaba6",
   "metadata": {},
   "source": [
    "Simulated LMEM in R and Python\n",
    "---\n",
    "\n",
    "**Authors:** Daniel F. Feeney, Ph.D. & Ross D. Wilkinson, Ph.D.\n",
    "\n",
    "**Date:** April 5, 2022\n",
    "\n",
    "**Sections:**\n",
    "1. Setting up the environment\n",
    "2. Creating the simulated datasets\n",
    "3. Visualizing the dataset\n",
    "4. Modeling the balanced dataset\n",
    "5. Comparing model fits and estimates\n",
    "6. Using LMEMs on unbalanced datasets\n",
    "7. Adding effects to LMEMs\n",
    "\n",
    "**References:**\n",
    "* Reiser, R. F., Maines, J. M., Eisenmann, J. C., &#38; Wilkinson, J. G. (2002). Standing and seated Wingate protocols in human cycling. A comparison of standard parameters. <i>European Journal of Applied Physiology</i>, <i>88</i>(1–2), 152–157. https://doi.org/10.1007/s00421-002-0694-1\n",
    "* https://www.tjmahr.com/plotting-partial-pooling-in-mixed-effects-models/\n",
    "* https://www.linguisticsociety.org/sites/default/files/e-learning/class_3_slides.pdf"
   ]
  },
  {
   "cell_type": "markdown",
   "id": "213da749",
   "metadata": {},
   "source": [
    "## 1. Setting up the environment\n",
    "\n",
    "This notebooke uses a Python kernel and the *rpy2* library to run R code and then pass variables back out to Python. This allows us to analyze the exact same dataset simultaneously with R and Python."
   ]
  },
  {
   "cell_type": "markdown",
   "id": "3abad030",
   "metadata": {},
   "source": [
    "### 1.1 Python\n",
    "* Load *rpy2* so that we can pass variables between R and Python. Note: You need R on your local machine.\n",
    "* Import libraries. Note: You may have to install these."
   ]
  },
  {
   "cell_type": "code",
   "execution_count": 1,
   "id": "93a3b47d",
   "metadata": {},
   "outputs": [
    {
     "name": "stdout",
     "output_type": "stream",
     "text": [
      "Requirement already satisfied: arviz in c:\\users\\daniel.feeney\\anaconda3\\lib\\site-packages (0.12.0)\n",
      "Requirement already satisfied: pandas>=0.23 in c:\\users\\daniel.feeney\\anaconda3\\lib\\site-packages (from arviz) (1.2.4)\n",
      "Requirement already satisfied: setuptools>=38.4 in c:\\users\\daniel.feeney\\anaconda3\\lib\\site-packages (from arviz) (52.0.0.post20210125)\n",
      "Requirement already satisfied: netcdf4 in c:\\users\\daniel.feeney\\anaconda3\\lib\\site-packages (from arviz) (1.5.8)\n",
      "Requirement already satisfied: xarray>=0.16.1 in c:\\users\\daniel.feeney\\anaconda3\\lib\\site-packages (from arviz) (2022.3.0)\n",
      "Requirement already satisfied: packaging in c:\\users\\daniel.feeney\\anaconda3\\lib\\site-packages (from arviz) (21.3)\n",
      "Requirement already satisfied: typing-extensions>=3.7.4.3 in c:\\users\\daniel.feeney\\anaconda3\\lib\\site-packages (from arviz) (3.7.4.3)\n",
      "Requirement already satisfied: matplotlib>=3.0 in c:\\users\\daniel.feeney\\anaconda3\\lib\\site-packages (from arviz) (3.3.4)\n",
      "Requirement already satisfied: scipy>=0.19 in c:\\users\\daniel.feeney\\anaconda3\\lib\\site-packages (from arviz) (1.7.3)\n",
      "Requirement already satisfied: numpy>=1.12 in c:\\users\\daniel.feeney\\anaconda3\\lib\\site-packages (from arviz) (1.20.1)\n",
      "Requirement already satisfied: pillow>=6.2.0 in c:\\users\\daniel.feeney\\anaconda3\\lib\\site-packages (from matplotlib>=3.0->arviz) (8.2.0)\n",
      "Requirement already satisfied: python-dateutil>=2.1 in c:\\users\\daniel.feeney\\anaconda3\\lib\\site-packages (from matplotlib>=3.0->arviz) (2.8.1)\n",
      "Requirement already satisfied: kiwisolver>=1.0.1 in c:\\users\\daniel.feeney\\anaconda3\\lib\\site-packages (from matplotlib>=3.0->arviz) (1.3.1)\n",
      "Requirement already satisfied: cycler>=0.10 in c:\\users\\daniel.feeney\\anaconda3\\lib\\site-packages (from matplotlib>=3.0->arviz) (0.10.0)\n",
      "Requirement already satisfied: pyparsing!=2.0.4,!=2.1.2,!=2.1.6,>=2.0.3 in c:\\users\\daniel.feeney\\anaconda3\\lib\\site-packages (from matplotlib>=3.0->arviz) (2.4.7)\n",
      "Requirement already satisfied: six in c:\\users\\daniel.feeney\\anaconda3\\lib\\site-packages (from cycler>=0.10->matplotlib>=3.0->arviz) (1.15.0)\n",
      "Requirement already satisfied: pytz>=2017.3 in c:\\users\\daniel.feeney\\anaconda3\\lib\\site-packages (from pandas>=0.23->arviz) (2021.1)\n",
      "Requirement already satisfied: cftime in c:\\users\\daniel.feeney\\anaconda3\\lib\\site-packages (from netcdf4->arviz) (1.6.0)\n",
      "Requirement already satisfied: pymc3 in c:\\users\\daniel.feeney\\anaconda3\\lib\\site-packages (3.11.5)\n",
      "Requirement already satisfied: dill in c:\\users\\daniel.feeney\\anaconda3\\lib\\site-packages (from pymc3) (0.3.4)\n",
      "Requirement already satisfied: theano-pymc==1.1.2 in c:\\users\\daniel.feeney\\anaconda3\\lib\\site-packages (from pymc3) (1.1.2)\n",
      "Requirement already satisfied: semver>=2.13.0 in c:\\users\\daniel.feeney\\anaconda3\\lib\\site-packages (from pymc3) (2.13.0)\n",
      "Requirement already satisfied: scipy<1.8.0,>=1.7.3 in c:\\users\\daniel.feeney\\anaconda3\\lib\\site-packages (from pymc3) (1.7.3)\n",
      "Requirement already satisfied: deprecat in c:\\users\\daniel.feeney\\anaconda3\\lib\\site-packages (from pymc3) (2.1.1)\n",
      "Requirement already satisfied: fastprogress>=0.2.0 in c:\\users\\daniel.feeney\\anaconda3\\lib\\site-packages (from pymc3) (1.0.2)\n",
      "Requirement already satisfied: numpy<1.22.2,>=1.15.0 in c:\\users\\daniel.feeney\\anaconda3\\lib\\site-packages (from pymc3) (1.20.1)\n",
      "Requirement already satisfied: patsy>=0.5.1 in c:\\users\\daniel.feeney\\anaconda3\\lib\\site-packages (from pymc3) (0.5.2)\n",
      "Requirement already satisfied: pandas>=0.24.0 in c:\\users\\daniel.feeney\\anaconda3\\lib\\site-packages (from pymc3) (1.2.4)\n",
      "Requirement already satisfied: cachetools>=4.2.1 in c:\\users\\daniel.feeney\\anaconda3\\lib\\site-packages (from pymc3) (5.0.0)\n",
      "Requirement already satisfied: arviz>=0.11.0 in c:\\users\\daniel.feeney\\anaconda3\\lib\\site-packages (from pymc3) (0.12.0)\n",
      "Requirement already satisfied: typing-extensions>=3.7.4 in c:\\users\\daniel.feeney\\anaconda3\\lib\\site-packages (from pymc3) (3.7.4.3)\n",
      "Requirement already satisfied: filelock in c:\\users\\daniel.feeney\\anaconda3\\lib\\site-packages (from theano-pymc==1.1.2->pymc3) (3.0.12)\n",
      "Requirement already satisfied: matplotlib>=3.0 in c:\\users\\daniel.feeney\\anaconda3\\lib\\site-packages (from arviz>=0.11.0->pymc3) (3.3.4)\n",
      "Requirement already satisfied: setuptools>=38.4 in c:\\users\\daniel.feeney\\anaconda3\\lib\\site-packages (from arviz>=0.11.0->pymc3) (52.0.0.post20210125)\n",
      "Requirement already satisfied: packaging in c:\\users\\daniel.feeney\\anaconda3\\lib\\site-packages (from arviz>=0.11.0->pymc3) (21.3)\n",
      "Requirement already satisfied: xarray>=0.16.1 in c:\\users\\daniel.feeney\\anaconda3\\lib\\site-packages (from arviz>=0.11.0->pymc3) (2022.3.0)\n",
      "Requirement already satisfied: netcdf4 in c:\\users\\daniel.feeney\\anaconda3\\lib\\site-packages (from arviz>=0.11.0->pymc3) (1.5.8)\n",
      "Requirement already satisfied: cycler>=0.10 in c:\\users\\daniel.feeney\\anaconda3\\lib\\site-packages (from matplotlib>=3.0->arviz>=0.11.0->pymc3) (0.10.0)\n",
      "Requirement already satisfied: pillow>=6.2.0 in c:\\users\\daniel.feeney\\anaconda3\\lib\\site-packages (from matplotlib>=3.0->arviz>=0.11.0->pymc3) (8.2.0)\n",
      "Requirement already satisfied: python-dateutil>=2.1 in c:\\users\\daniel.feeney\\anaconda3\\lib\\site-packages (from matplotlib>=3.0->arviz>=0.11.0->pymc3) (2.8.1)\n",
      "Requirement already satisfied: pyparsing!=2.0.4,!=2.1.2,!=2.1.6,>=2.0.3 in c:\\users\\daniel.feeney\\anaconda3\\lib\\site-packages (from matplotlib>=3.0->arviz>=0.11.0->pymc3) (2.4.7)\n",
      "Requirement already satisfied: kiwisolver>=1.0.1 in c:\\users\\daniel.feeney\\anaconda3\\lib\\site-packages (from matplotlib>=3.0->arviz>=0.11.0->pymc3) (1.3.1)\n",
      "Requirement already satisfied: six in c:\\users\\daniel.feeney\\anaconda3\\lib\\site-packages (from cycler>=0.10->matplotlib>=3.0->arviz>=0.11.0->pymc3) (1.15.0)\n",
      "Requirement already satisfied: pytz>=2017.3 in c:\\users\\daniel.feeney\\anaconda3\\lib\\site-packages (from pandas>=0.24.0->pymc3) (2021.1)\n",
      "Requirement already satisfied: wrapt<2,>=1.10 in c:\\users\\daniel.feeney\\anaconda3\\lib\\site-packages (from deprecat->pymc3) (1.12.1)\n",
      "Requirement already satisfied: cftime in c:\\users\\daniel.feeney\\anaconda3\\lib\\site-packages (from netcdf4->arviz>=0.11.0->pymc3) (1.6.0)\n",
      "Requirement already satisfied: bambi in c:\\users\\daniel.feeney\\anaconda3\\lib\\site-packages (0.7.1)\n",
      "Requirement already satisfied: pymc3>=3.9.0 in c:\\users\\daniel.feeney\\anaconda3\\lib\\site-packages (from bambi) (3.11.5)\n",
      "Requirement already satisfied: statsmodels>=0.9 in c:\\users\\daniel.feeney\\anaconda3\\lib\\site-packages (from bambi) (0.13.2)\n",
      "Requirement already satisfied: numpy<1.22.0,>=1.16.1 in c:\\users\\daniel.feeney\\anaconda3\\lib\\site-packages (from bambi) (1.20.1)\n",
      "Requirement already satisfied: formulae==0.2.0 in c:\\users\\daniel.feeney\\anaconda3\\lib\\site-packages (from bambi) (0.2.0)\n",
      "Requirement already satisfied: scipy>=1.7.0 in c:\\users\\daniel.feeney\\anaconda3\\lib\\site-packages (from bambi) (1.7.3)\n",
      "Requirement already satisfied: arviz>=0.11.2 in c:\\users\\daniel.feeney\\anaconda3\\lib\\site-packages (from bambi) (0.12.0)\n",
      "Requirement already satisfied: pandas>=1.0.0 in c:\\users\\daniel.feeney\\anaconda3\\lib\\site-packages (from bambi) (1.2.4)\n",
      "Requirement already satisfied: matplotlib>=3.0 in c:\\users\\daniel.feeney\\anaconda3\\lib\\site-packages (from arviz>=0.11.2->bambi) (3.3.4)\n",
      "Requirement already satisfied: setuptools>=38.4 in c:\\users\\daniel.feeney\\anaconda3\\lib\\site-packages (from arviz>=0.11.2->bambi) (52.0.0.post20210125)\n",
      "Requirement already satisfied: packaging in c:\\users\\daniel.feeney\\anaconda3\\lib\\site-packages (from arviz>=0.11.2->bambi) (21.3)\n",
      "Requirement already satisfied: xarray>=0.16.1 in c:\\users\\daniel.feeney\\anaconda3\\lib\\site-packages (from arviz>=0.11.2->bambi) (2022.3.0)\n",
      "Requirement already satisfied: typing-extensions>=3.7.4.3 in c:\\users\\daniel.feeney\\anaconda3\\lib\\site-packages (from arviz>=0.11.2->bambi) (3.7.4.3)\n",
      "Requirement already satisfied: netcdf4 in c:\\users\\daniel.feeney\\anaconda3\\lib\\site-packages (from arviz>=0.11.2->bambi) (1.5.8)\n",
      "Requirement already satisfied: pillow>=6.2.0 in c:\\users\\daniel.feeney\\anaconda3\\lib\\site-packages (from matplotlib>=3.0->arviz>=0.11.2->bambi) (8.2.0)\n",
      "Requirement already satisfied: kiwisolver>=1.0.1 in c:\\users\\daniel.feeney\\anaconda3\\lib\\site-packages (from matplotlib>=3.0->arviz>=0.11.2->bambi) (1.3.1)\n",
      "Requirement already satisfied: cycler>=0.10 in c:\\users\\daniel.feeney\\anaconda3\\lib\\site-packages (from matplotlib>=3.0->arviz>=0.11.2->bambi) (0.10.0)\n",
      "Requirement already satisfied: pyparsing!=2.0.4,!=2.1.2,!=2.1.6,>=2.0.3 in c:\\users\\daniel.feeney\\anaconda3\\lib\\site-packages (from matplotlib>=3.0->arviz>=0.11.2->bambi) (2.4.7)\n",
      "Requirement already satisfied: python-dateutil>=2.1 in c:\\users\\daniel.feeney\\anaconda3\\lib\\site-packages (from matplotlib>=3.0->arviz>=0.11.2->bambi) (2.8.1)\n",
      "Requirement already satisfied: six in c:\\users\\daniel.feeney\\anaconda3\\lib\\site-packages (from cycler>=0.10->matplotlib>=3.0->arviz>=0.11.2->bambi) (1.15.0)\n",
      "Requirement already satisfied: pytz>=2017.3 in c:\\users\\daniel.feeney\\anaconda3\\lib\\site-packages (from pandas>=1.0.0->bambi) (2021.1)\n",
      "Requirement already satisfied: theano-pymc==1.1.2 in c:\\users\\daniel.feeney\\anaconda3\\lib\\site-packages (from pymc3>=3.9.0->bambi) (1.1.2)\n",
      "Requirement already satisfied: cachetools>=4.2.1 in c:\\users\\daniel.feeney\\anaconda3\\lib\\site-packages (from pymc3>=3.9.0->bambi) (5.0.0)\n",
      "Requirement already satisfied: deprecat in c:\\users\\daniel.feeney\\anaconda3\\lib\\site-packages (from pymc3>=3.9.0->bambi) (2.1.1)\n",
      "Requirement already satisfied: fastprogress>=0.2.0 in c:\\users\\daniel.feeney\\anaconda3\\lib\\site-packages (from pymc3>=3.9.0->bambi) (1.0.2)\n",
      "Requirement already satisfied: dill in c:\\users\\daniel.feeney\\anaconda3\\lib\\site-packages (from pymc3>=3.9.0->bambi) (0.3.4)\n",
      "Requirement already satisfied: patsy>=0.5.1 in c:\\users\\daniel.feeney\\anaconda3\\lib\\site-packages (from pymc3>=3.9.0->bambi) (0.5.2)\n",
      "Requirement already satisfied: semver>=2.13.0 in c:\\users\\daniel.feeney\\anaconda3\\lib\\site-packages (from pymc3>=3.9.0->bambi) (2.13.0)\n",
      "Requirement already satisfied: filelock in c:\\users\\daniel.feeney\\anaconda3\\lib\\site-packages (from theano-pymc==1.1.2->pymc3>=3.9.0->bambi) (3.0.12)\n",
      "Requirement already satisfied: wrapt<2,>=1.10 in c:\\users\\daniel.feeney\\anaconda3\\lib\\site-packages (from deprecat->pymc3>=3.9.0->bambi) (1.12.1)\n",
      "Requirement already satisfied: cftime in c:\\users\\daniel.feeney\\anaconda3\\lib\\site-packages (from netcdf4->arviz>=0.11.2->bambi) (1.6.0)\n"
     ]
    },
    {
     "name": "stdout",
     "output_type": "stream",
     "text": [
      "Requirement already satisfied: pingouin in c:\\users\\daniel.feeney\\anaconda3\\lib\\site-packages (0.5.1)\n",
      "Requirement already satisfied: seaborn>=0.11 in c:\\users\\daniel.feeney\\anaconda3\\lib\\site-packages (from pingouin) (0.11.1)\n",
      "Requirement already satisfied: scipy>=1.7 in c:\\users\\daniel.feeney\\anaconda3\\lib\\site-packages (from pingouin) (1.7.3)\n",
      "Requirement already satisfied: outdated in c:\\users\\daniel.feeney\\anaconda3\\lib\\site-packages (from pingouin) (0.2.1)\n",
      "Requirement already satisfied: pandas>=1.0 in c:\\users\\daniel.feeney\\anaconda3\\lib\\site-packages (from pingouin) (1.2.4)\n",
      "Requirement already satisfied: numpy>=1.19 in c:\\users\\daniel.feeney\\anaconda3\\lib\\site-packages (from pingouin) (1.20.1)\n",
      "Requirement already satisfied: matplotlib>=3.0.2 in c:\\users\\daniel.feeney\\anaconda3\\lib\\site-packages (from pingouin) (3.3.4)\n",
      "Requirement already satisfied: pandas-flavor>=0.2.0 in c:\\users\\daniel.feeney\\anaconda3\\lib\\site-packages (from pingouin) (0.2.0)\n",
      "Requirement already satisfied: tabulate in c:\\users\\daniel.feeney\\anaconda3\\lib\\site-packages (from pingouin) (0.8.9)\n",
      "Requirement already satisfied: statsmodels>=0.13 in c:\\users\\daniel.feeney\\anaconda3\\lib\\site-packages (from pingouin) (0.13.2)\n",
      "Requirement already satisfied: scikit-learn in c:\\users\\daniel.feeney\\anaconda3\\lib\\site-packages (from pingouin) (0.24.1)\n",
      "Requirement already satisfied: pyparsing!=2.0.4,!=2.1.2,!=2.1.6,>=2.0.3 in c:\\users\\daniel.feeney\\anaconda3\\lib\\site-packages (from matplotlib>=3.0.2->pingouin) (2.4.7)\n",
      "Requirement already satisfied: cycler>=0.10 in c:\\users\\daniel.feeney\\anaconda3\\lib\\site-packages (from matplotlib>=3.0.2->pingouin) (0.10.0)\n",
      "Requirement already satisfied: kiwisolver>=1.0.1 in c:\\users\\daniel.feeney\\anaconda3\\lib\\site-packages (from matplotlib>=3.0.2->pingouin) (1.3.1)\n",
      "Requirement already satisfied: python-dateutil>=2.1 in c:\\users\\daniel.feeney\\anaconda3\\lib\\site-packages (from matplotlib>=3.0.2->pingouin) (2.8.1)\n",
      "Requirement already satisfied: pillow>=6.2.0 in c:\\users\\daniel.feeney\\anaconda3\\lib\\site-packages (from matplotlib>=3.0.2->pingouin) (8.2.0)\n",
      "Requirement already satisfied: six in c:\\users\\daniel.feeney\\anaconda3\\lib\\site-packages (from cycler>=0.10->matplotlib>=3.0.2->pingouin) (1.15.0)\n",
      "Requirement already satisfied: pytz>=2017.3 in c:\\users\\daniel.feeney\\anaconda3\\lib\\site-packages (from pandas>=1.0->pingouin) (2021.1)\n",
      "Requirement already satisfied: xarray in c:\\users\\daniel.feeney\\anaconda3\\lib\\site-packages (from pandas-flavor>=0.2.0->pingouin) (2022.3.0)\n",
      "Requirement already satisfied: patsy>=0.5.2 in c:\\users\\daniel.feeney\\anaconda3\\lib\\site-packages (from statsmodels>=0.13->pingouin) (0.5.2)\n",
      "Requirement already satisfied: packaging>=21.3 in c:\\users\\daniel.feeney\\anaconda3\\lib\\site-packages (from statsmodels>=0.13->pingouin) (21.3)\n",
      "Requirement already satisfied: littleutils in c:\\users\\daniel.feeney\\anaconda3\\lib\\site-packages (from outdated->pingouin) (0.2.2)\n",
      "Requirement already satisfied: requests in c:\\users\\daniel.feeney\\anaconda3\\lib\\site-packages (from outdated->pingouin) (2.25.1)\n",
      "Requirement already satisfied: chardet<5,>=3.0.2 in c:\\users\\daniel.feeney\\anaconda3\\lib\\site-packages (from requests->outdated->pingouin) (4.0.0)\n",
      "Requirement already satisfied: idna<3,>=2.5 in c:\\users\\daniel.feeney\\anaconda3\\lib\\site-packages (from requests->outdated->pingouin) (2.10)\n",
      "Requirement already satisfied: urllib3<1.27,>=1.21.1 in c:\\users\\daniel.feeney\\anaconda3\\lib\\site-packages (from requests->outdated->pingouin) (1.26.4)\n",
      "Requirement already satisfied: certifi>=2017.4.17 in c:\\users\\daniel.feeney\\anaconda3\\lib\\site-packages (from requests->outdated->pingouin) (2020.12.5)\n",
      "Requirement already satisfied: threadpoolctl>=2.0.0 in c:\\users\\daniel.feeney\\anaconda3\\lib\\site-packages (from scikit-learn->pingouin) (2.1.0)\n",
      "Requirement already satisfied: joblib>=0.11 in c:\\users\\daniel.feeney\\anaconda3\\lib\\site-packages (from scikit-learn->pingouin) (1.0.1)\n",
      "Requirement already satisfied: rpy2 in c:\\users\\daniel.feeney\\anaconda3\\lib\\site-packages (3.5.1)\n",
      "Requirement already satisfied: pytz in c:\\users\\daniel.feeney\\anaconda3\\lib\\site-packages (from rpy2) (2021.1)\n",
      "Requirement already satisfied: cffi>=1.10.0 in c:\\users\\daniel.feeney\\anaconda3\\lib\\site-packages (from rpy2) (1.14.5)\n",
      "Requirement already satisfied: jinja2 in c:\\users\\daniel.feeney\\anaconda3\\lib\\site-packages (from rpy2) (2.11.3)\n",
      "Requirement already satisfied: tzlocal in c:\\users\\daniel.feeney\\anaconda3\\lib\\site-packages (from rpy2) (4.2)\n",
      "Requirement already satisfied: pycparser in c:\\users\\daniel.feeney\\anaconda3\\lib\\site-packages (from cffi>=1.10.0->rpy2) (2.20)\n",
      "Requirement already satisfied: MarkupSafe>=0.23 in c:\\users\\daniel.feeney\\anaconda3\\lib\\site-packages (from jinja2->rpy2) (1.1.1)\n",
      "Requirement already satisfied: pytz-deprecation-shim in c:\\users\\daniel.feeney\\anaconda3\\lib\\site-packages (from tzlocal->rpy2) (0.1.0.post0)\n",
      "Requirement already satisfied: tzdata in c:\\users\\daniel.feeney\\anaconda3\\lib\\site-packages (from tzlocal->rpy2) (2022.1)\n",
      "Requirement already satisfied: backports.zoneinfo in c:\\users\\daniel.feeney\\anaconda3\\lib\\site-packages (from tzlocal->rpy2) (0.2.1)\n",
      "Requirement already satisfied: graphviz in c:\\users\\daniel.feeney\\anaconda3\\lib\\site-packages (0.19.2)\n"
     ]
    }
   ],
   "source": [
    "# Install a pip package in the current Jupyter kernel\n",
    "import sys\n",
    "!{sys.executable} -m pip install arviz\n",
    "!{sys.executable} -m pip install pymc3\n",
    "!{sys.executable} -m pip install bambi\n",
    "!{sys.executable} -m pip install pingouin\n",
    "!{sys.executable} -m pip install rpy2\n",
    "!{sys.executable} -m pip install graphviz"
   ]
  },
  {
   "cell_type": "code",
   "execution_count": 4,
   "id": "e368da37",
   "metadata": {},
   "outputs": [
    {
     "ename": "SyntaxError",
     "evalue": "invalid syntax (<ipython-input-4-f215e819c0e2>, line 1)",
     "output_type": "error",
     "traceback": [
      "\u001b[1;36m  File \u001b[1;32m\"<ipython-input-4-f215e819c0e2>\"\u001b[1;36m, line \u001b[1;32m1\u001b[0m\n\u001b[1;33m    .libPaths('C:/Users/daniel.feeney/OneDrive - Boa Technology Inc/Documents/R/R-4.1.0/library')\u001b[0m\n\u001b[1;37m    ^\u001b[0m\n\u001b[1;31mSyntaxError\u001b[0m\u001b[1;31m:\u001b[0m invalid syntax\n"
     ]
    }
   ],
   "source": [
    ".libPaths('C:/Users/daniel.feeney/OneDrive - Boa Technology Inc/Documents/R/R-4.1.0/library')"
   ]
  },
  {
   "cell_type": "code",
   "execution_count": null,
   "id": "09ca5c47",
   "metadata": {},
   "outputs": [
    {
     "name": "stderr",
     "output_type": "stream",
     "text": [
      "Unable to determine R home: [WinError 2] The system cannot find the file specified\n",
      "Unable to determine R library path: Command '('C:\\\\Users\\\\daniel.feeney\\\\OneDrive - Boa Technology Inc\\\\Documents\\\\R\\\\R-4.1.0\\\\bin\\\\Rscript', '-e', 'cat(Sys.getenv(\"LD_LIBRARY_PATH\"))')' returned non-zero exit status 1.\n"
     ]
    }
   ],
   "source": [
    "%load_ext rpy2.ipython\n",
    "\n",
    "import matplotlib.pyplot as plt\n",
    "import numpy as np\n",
    "import pandas as pd\n",
    "import seaborn as sns\n",
    "import arviz as az\n",
    "import pymc3 as pm\n",
    "import bambi\n",
    "import pingouin as pg\n",
    "import graphviz"
   ]
  },
  {
   "cell_type": "markdown",
   "id": "8815842f",
   "metadata": {},
   "source": [
    "### 1.1 R\n",
    "* Import libraries. Note that you may have to install these."
   ]
  },
  {
   "cell_type": "code",
   "execution_count": 1,
   "id": "32993bd2",
   "metadata": {},
   "outputs": [
    {
     "name": "stderr",
     "output_type": "stream",
     "text": [
      "UsageError: Cell magic `%%R` not found.\n"
     ]
    }
   ],
   "source": [
    "%%R\n",
    "\n",
    "rm(list=ls())\n",
    "library(tidyverse)\n",
    "library(lme4)\n",
    "library(emmeans)"
   ]
  },
  {
   "cell_type": "markdown",
   "id": "777c91e5",
   "metadata": {},
   "source": [
    "## 2. Creating the simulated dataset\n",
    "First, we'll create a perfectly balanced simulated dataset:\n",
    "* dat_sim : a balanced dataset for 16 subjects\n",
    "\n",
    "We will also output the simulated dataset, *dat_sim*, to show how to replicate the analysis in Python.\n",
    "\n",
    "The inputs we will use for the simulated dataset are based loosely on the findings of:\n",
    "1. Reiser, R. F., Maines, J. M., Eisenmann, J. C., &#38; Wilkinson, J. G. (2002). Standing and seated Wingate protocols in human cycling. A comparison of standard parameters. <i>European Journal of Applied Physiology</i>, <i>88</i>(1–2), 152–157. https://doi.org/10.1007/s00421-002-0694-1\n",
    "\n",
    "We will take the majority of fixed and random effects from Reiser et al. (2002), who compared maximal 30 s power output in 12 male college-level competitive cyclists, presumably from Colorado State University—the university of the lead author. This study found that the average maximal 30 s power output of the group was 797 W with a standard deviation of 46 W, but we will use nice round numbers of 800 W ± 50 W. The average increase in maximal 30 s power output when standing was ~6% (46 W) greater than when seated. But again, we will use a nice round number of 50 W.\n",
    "\n",
    "Unfortunately, Reiser et al. (2002) did not report an effect size, so we will assume the effect of standing was extremely consistent between subjects, i.e., an effect size of 2.0, which gives a by-subject random slope of 25 W."
   ]
  },
  {
   "cell_type": "markdown",
   "id": "a3b4fe39",
   "metadata": {},
   "source": [
    "### 2.1 R"
   ]
  },
  {
   "cell_type": "code",
   "execution_count": 2,
   "id": "b6cf6fcf",
   "metadata": {},
   "outputs": [
    {
     "name": "stderr",
     "output_type": "stream",
     "text": [
      "UsageError: Cell magic `%%R` not found.\n"
     ]
    }
   ],
   "source": [
    "%%R -o dat_sim\n",
    "\n",
    "# set seed\n",
    "set.seed(5280)\n",
    "\n",
    "# set fixed effect parameters. https://journals.sagepub.com/doi/full/10.1177/2515245920965119\n",
    "\n",
    "beta_0 <- 800 # intercept; i.e., the grand mean. this would be avg pwr\n",
    "\n",
    "beta_1 <- 50 # slope; the effect of category this would be difference in pwr\n",
    "\n",
    "# set random effect parameters\n",
    "\n",
    "tau_0 <- 50 # by-subject random intercept sd. We assume this comes from a normal dist with  mean 0 and unknown SD. SD for random intercept by sub\n",
    "\n",
    "omega_0 <- 1 # by-item random intercept sd for seated and standing. by condition random intercept\n",
    "\n",
    "# set more random effect and error parameters\n",
    "\n",
    "tau_1 <- 25 # by-subject random slope sd for random slopes\n",
    "\n",
    "rho <- .3 # correlation between intercept and slope\n",
    "\n",
    "sigma <- 30 # residual (error) sd\n",
    "\n",
    "#But note that we are sampling two random effects for each subject s, a random intercept T0s and a random slope T1s. It is possible for these values to be positively or negatively correlated, in which case we should not sample them independently. For instance, perhaps people who are faster than average overall (negative random intercept) also show a smaller than average effect of the in-group/out-group manipulation (negative random slope) because they allocate less attention to the task. We can capture this by allowing for a small positive correlation between the two factors, rho, which we assign to be .2.\n",
    "\n",
    "# overall model: RTsi=β0+T0s+O0i+(β1+T1s)Xi+esi. The response time for subject s on item i, RTsi, is decomposed into a population grand mean, β0; a by-subject random intercept, T0s; a by-item random interce\n",
    "# set number of subjects and items\n",
    "\n",
    "n_subj <- 16 # number of subjects\n",
    "# pt, O0i; a fixed slope, β1; a by-subject random slope, T1s; and a trial-level residual, esi. Our data-generating process is fully determined by seven population parameters, all denoted by Greek letters: β0, β1, τ0, τ1, ρ, ω0, and σ (see Table 2). In the next section, we apply this data-generating process to simulate the sampling of subjects, items, and trials (encounters).\n",
    "\n",
    "\n",
    "n_seated <- 6 # number of seated observations\n",
    "\n",
    "n_standing <- 6 # number of standing observations\n",
    "\n",
    "#We need to create a table listing each item i, which category it is in, and its random effect, O0i:\n",
    "\n",
    "# simulate a sample of items\n",
    "\n",
    "# total number of items = n_ingroup +n_outgroup\n",
    "\n",
    "items <- data.frame(\n",
    "  item_id = seq_len(n_seated + n_standing),\n",
    "  category = rep(c(\"seated\", \"standing\"), c(n_seated, n_standing)),\n",
    "  O_0i = rnorm(n = n_seated + n_seated, mean = 0, sd = omega_0)\n",
    "\n",
    ")\n",
    "\n",
    "# effect-code category. this encodes a predictor as to which category each sim belongs to. seated should be less pwr, standing higher\n",
    "\n",
    "items$X_i <- recode(items$category, \"seated\" = -0.5, \"standing\" = +0.5)\n",
    "#We will later multiply this effect-coded factor by the fixed effect of category (beta_1 = 50) to simulate data in which the powers differ by postrue\n",
    "\n",
    "# simulate a sample of subjects\n",
    "\n",
    "# calculate random intercept / random slope covariance\n",
    "\n",
    "covar <- rho * tau_0 * tau_1\n",
    "\n",
    "# put values into variance-covariance matrix\n",
    "\n",
    "cov_mx <- matrix(c(tau_0^2, covar, covar, tau_1^2),\n",
    "                 nrow = 2, byrow = TRUE)\n",
    "\n",
    "# generate the by-subject random effects\n",
    "\n",
    "subject_rfx <- MASS::mvrnorm(n = n_subj, \n",
    "    mu = c(T_0s = 0, T_1s = 0),\n",
    "    Sigma = cov_mx)\n",
    "\n",
    "# combine with subject IDs\n",
    "\n",
    "subjects <- data.frame(subj_id = seq_len(n_subj),subject_rfx)\n",
    "\n",
    "\n",
    "# cross subject and item IDs; add an error term\n",
    "\n",
    "# nrow(.) is the number of rows in the table\n",
    "\n",
    "trials <- crossing(subjects, items) %>%\n",
    "  mutate(e_si = rnorm(nrow(.), mean = 0, sd = sigma)) %>%\n",
    "  select(subj_id, item_id, category, X_i, everything())\n",
    "\n",
    "# calculate the response variable\n",
    "\n",
    "dat_sim <- trials %>% \n",
    "  mutate(pwr = beta_0 + T_0s + O_0i + (beta_1 + T_1s) * X_i + e_si) %>%\n",
    "  select(subj_id, item_id, category, X_i, pwr)"
   ]
  },
  {
   "cell_type": "markdown",
   "id": "92b06959",
   "metadata": {},
   "source": [
    "### 2.1 Python\n",
    "\n",
    "If you would prefer to create the dataset in Python just uncomment the code below."
   ]
  },
  {
   "cell_type": "code",
   "execution_count": 2,
   "id": "79903172",
   "metadata": {},
   "outputs": [
    {
     "ename": "NameError",
     "evalue": "name 'np' is not defined",
     "output_type": "error",
     "traceback": [
      "\u001b[1;31m---------------------------------------------------------------------------\u001b[0m",
      "\u001b[1;31mNameError\u001b[0m                                 Traceback (most recent call last)",
      "\u001b[1;32m<ipython-input-2-248523b331d4>\u001b[0m in \u001b[0;36m<module>\u001b[1;34m\u001b[0m\n\u001b[0;32m      1\u001b[0m \u001b[1;31m##### CREATE SIMULATED DATASET #####\u001b[0m\u001b[1;33m\u001b[0m\u001b[1;33m\u001b[0m\u001b[1;33m\u001b[0m\u001b[0m\n\u001b[0;32m      2\u001b[0m \u001b[1;31m# set seed\u001b[0m\u001b[1;33m\u001b[0m\u001b[1;33m\u001b[0m\u001b[1;33m\u001b[0m\u001b[0m\n\u001b[1;32m----> 3\u001b[1;33m \u001b[0mnp\u001b[0m\u001b[1;33m.\u001b[0m\u001b[0mrandom\u001b[0m\u001b[1;33m.\u001b[0m\u001b[0mseed\u001b[0m\u001b[1;33m(\u001b[0m\u001b[1;36m5280\u001b[0m\u001b[1;33m)\u001b[0m\u001b[1;33m\u001b[0m\u001b[1;33m\u001b[0m\u001b[0m\n\u001b[0m\u001b[0;32m      4\u001b[0m \u001b[1;31m# intercept; i.e., the grand mean or average power output\u001b[0m\u001b[1;33m\u001b[0m\u001b[1;33m\u001b[0m\u001b[1;33m\u001b[0m\u001b[0m\n\u001b[0;32m      5\u001b[0m \u001b[0mbeta_0\u001b[0m \u001b[1;33m=\u001b[0m \u001b[1;36m1000\u001b[0m\u001b[1;33m\u001b[0m\u001b[1;33m\u001b[0m\u001b[0m\n",
      "\u001b[1;31mNameError\u001b[0m: name 'np' is not defined"
     ]
    }
   ],
   "source": [
    "# ##### CREATE SIMULATED DATASET #####\n",
    "# # set seed\n",
    "# np.random.seed(5280)\n",
    "# # intercept; i.e., the grand mean or average power output\n",
    "# beta_0 = 1000\n",
    "# # slope; i.e., the effect of category or the difference in power output\n",
    "# beta_1 = 80\n",
    "# # sd for random intercept by subject\n",
    "# tau_0 = 200\n",
    "# # sd for random intercept by condition\n",
    "# omega_0 = 5\n",
    "# # sd for random slope by subject\n",
    "# tau_1 = 80\n",
    "# # correlation between intercept and slope\n",
    "# rho = 0.3\n",
    "# # residual error (within subject SD)\n",
    "# sigma = 40\n",
    "# # number of subjects\n",
    "# n_subj = 16\n",
    "# # number of observations in seated posture\n",
    "# n_seated = 6\n",
    "# # number of observations in standing posture\n",
    "# n_standing = 6\n",
    "# # store item variables in dictionary\n",
    "# d = {\"item_id\" : range(n_seated + n_standing),\n",
    "#      \"category\" : np.repeat([\"seated\", \"standing\"], [n_seated, n_standing], axis=0),\n",
    "#      \"O_0i\" : np.random.normal(0, omega_0, n_seated + n_standing),\n",
    "#      \"X_i\" : np.repeat([0, 1], [n_seated, n_standing], axis=0)}\n",
    "# # create df from dict\n",
    "# items = pd.DataFrame(d)\n",
    "# # calculate covariance\n",
    "# covar = rho * tau_0 * tau_1\n",
    "# # create covariance matrix\n",
    "# cov_mx = [[tau_0**2, covar],[covar, tau_1**2]]\n",
    "# # sample from multivariate distribution\n",
    "# T_0s, T_1s = np.random.multivariate_normal([0, 0], cov_mx, n_subj).T\n",
    "# # store subject variables in dictionary\n",
    "# d2 = {\"T_0s\" : T_0s,\n",
    "#       \"T_1s\" : T_1s,\n",
    "#       \"subj_id\" : np.arange(n_subj)+1}\n",
    "# # create df from dict\n",
    "# subjects = pd.DataFrame(d2)\n",
    "# # merge subject and item dataframes\n",
    "# trials = subjects.merge(items, how=\"cross\")\n",
    "# # add random error variable\n",
    "# trials[\"e_si\"] = np.random.normal(0, sigma, len(trials))\n",
    "# # reorder columns\n",
    "# trials = trials[[\"subj_id\",\"item_id\",\"category\",\"X_i\",\"T_0s\",\"T_1s\",\"O_0i\",\"e_si\"]]\n",
    "# # calculate simulated maximal power\n",
    "# trials[\"pwr\"] = beta_0 + trials[\"T_0s\"] + trials[\"O_0i\"] + (beta_1 + trials[\"T_1s\"]) * trials[\"X_i\"] + trials[\"e_si\"]\n",
    "# # create final df from desired columns\n",
    "# dat_sim = trials[[\"subj_id\",\"item_id\",\"category\",\"X_i\",\"pwr\"]]"
   ]
  },
  {
   "cell_type": "markdown",
   "id": "a3238040",
   "metadata": {},
   "source": [
    "### 2.2 Creating a messy and unbalanced dataset in Python\n",
    "We will now create 2 additional datasets to show how the *bambi* package can estimate the uncertainty due to a reduced number of observations and even provide a subject-specific prediction in the absence of data.\n",
    "\n",
    "* dat_mess : the same as dat_sim but with some observations missing for subjects 1, 2, 3, and 16.\n",
    "* dat_unbal : the same as dat_mess but without subject 16, who is missing all standing trials\n"
   ]
  },
  {
   "cell_type": "code",
   "execution_count": 1,
   "id": "0e7adaaf",
   "metadata": {},
   "outputs": [
    {
     "ename": "NameError",
     "evalue": "name 'dat_sim' is not defined",
     "output_type": "error",
     "traceback": [
      "\u001b[1;31m---------------------------------------------------------------------------\u001b[0m",
      "\u001b[1;31mNameError\u001b[0m                                 Traceback (most recent call last)",
      "\u001b[1;32m<ipython-input-1-068cb167197a>\u001b[0m in \u001b[0;36m<module>\u001b[1;34m\u001b[0m\n\u001b[0;32m      1\u001b[0m \u001b[1;31m##### CREATE MESSY DATASET #####\u001b[0m\u001b[1;33m\u001b[0m\u001b[1;33m\u001b[0m\u001b[1;33m\u001b[0m\u001b[0m\n\u001b[1;32m----> 2\u001b[1;33m \u001b[0mdat_mess\u001b[0m \u001b[1;33m=\u001b[0m \u001b[0mdat_sim\u001b[0m\u001b[1;33m.\u001b[0m\u001b[0mcopy\u001b[0m\u001b[1;33m(\u001b[0m\u001b[1;33m)\u001b[0m\u001b[1;33m\u001b[0m\u001b[1;33m\u001b[0m\u001b[0m\n\u001b[0m\u001b[0;32m      3\u001b[0m \u001b[1;33m\u001b[0m\u001b[0m\n\u001b[0;32m      4\u001b[0m \u001b[1;31m# subject 1 missing half the trials in both conditions\u001b[0m\u001b[1;33m\u001b[0m\u001b[1;33m\u001b[0m\u001b[1;33m\u001b[0m\u001b[0m\n\u001b[0;32m      5\u001b[0m \u001b[0mmask\u001b[0m \u001b[1;33m=\u001b[0m \u001b[0mdat_mess\u001b[0m\u001b[1;33m[\u001b[0m\u001b[1;33m(\u001b[0m\u001b[0mdat_mess\u001b[0m\u001b[1;33m[\u001b[0m\u001b[1;34m\"category\"\u001b[0m\u001b[1;33m]\u001b[0m\u001b[1;33m==\u001b[0m\u001b[1;34m\"seated\"\u001b[0m\u001b[1;33m)\u001b[0m \u001b[1;33m&\u001b[0m \u001b[1;33m(\u001b[0m\u001b[0mdat_mess\u001b[0m\u001b[1;33m[\u001b[0m\u001b[1;34m\"subj_id\"\u001b[0m\u001b[1;33m]\u001b[0m\u001b[1;33m==\u001b[0m\u001b[1;36m1\u001b[0m\u001b[1;33m)\u001b[0m \u001b[1;33m&\u001b[0m \u001b[1;33m(\u001b[0m\u001b[0mdat_mess\u001b[0m\u001b[1;33m[\u001b[0m\u001b[1;34m\"item_id\"\u001b[0m\u001b[1;33m]\u001b[0m\u001b[1;33m>\u001b[0m\u001b[1;36m1\u001b[0m\u001b[1;33m)\u001b[0m\u001b[1;33m]\u001b[0m\u001b[1;33m.\u001b[0m\u001b[0mindex\u001b[0m\u001b[1;33m\u001b[0m\u001b[1;33m\u001b[0m\u001b[0m\n",
      "\u001b[1;31mNameError\u001b[0m: name 'dat_sim' is not defined"
     ]
    }
   ],
   "source": [
    "##### CREATE MESSY DATASET #####\n",
    "dat_mess = dat_sim.copy()\n",
    "\n",
    "# subject 1 missing half the trials in both conditions\n",
    "mask = dat_mess[(dat_mess[\"category\"]==\"seated\") & (dat_mess[\"subj_id\"]==1) & (dat_mess[\"item_id\"]>1)].index\n",
    "dat_mess = dat_mess.drop(mask)\n",
    "\n",
    "mask = dat_mess[(dat_mess[\"category\"]==\"standing\") & (dat_mess[\"subj_id\"]==1) & (dat_mess[\"item_id\"]>7)].index\n",
    "dat_mess = dat_mess.drop(mask)\n",
    "\n",
    "# subject 2 missing half the trials in both condition\n",
    "mask = dat_mess[(dat_mess[\"category\"]==\"seated\") & (dat_mess[\"subj_id\"]==2) & (dat_mess[\"item_id\"]>1)].index\n",
    "dat_mess = dat_mess.drop(mask)\n",
    "\n",
    "mask = dat_mess[(dat_mess[\"category\"]==\"standing\") & (dat_mess[\"subj_id\"]==2) & (dat_mess[\"item_id\"]>7)].index\n",
    "dat_mess = dat_mess.drop(mask)\n",
    "\n",
    "# subject 3 missing all the trials in one condition\n",
    "mask = dat_mess[(dat_mess[\"category\"]==\"standing\") & (dat_mess[\"subj_id\"]==3) & (dat_mess[\"item_id\"]>7)].index\n",
    "dat_mess = dat_mess.drop(mask)\n",
    "\n",
    "# subject 16 missing all the trials in one condition\n",
    "mask = dat_mess[(dat_mess[\"category\"]==\"standing\") & (dat_mess[\"subj_id\"]==16)].index\n",
    "dat_mess = dat_mess.drop(mask)\n",
    "\n",
    "##### CREATE UNBALANCED DATASET #####\n",
    "dat_unbal = dat_mess.copy()\n",
    "\n",
    "# remove subject 16\n",
    "mask = dat_unbal[dat_unbal[\"subj_id\"]==16].index\n",
    "dat_unbal = dat_unbal.drop(mask)"
   ]
  },
  {
   "cell_type": "markdown",
   "id": "3628ddb9",
   "metadata": {},
   "source": [
    "## 3. Visualizing the dataset\n",
    "\n",
    "The density distributions look different in Python and R. I assume this is due to smoothing defaults."
   ]
  },
  {
   "cell_type": "markdown",
   "id": "ca8897bd",
   "metadata": {},
   "source": [
    "### 3.1 R"
   ]
  },
  {
   "cell_type": "code",
   "execution_count": null,
   "id": "0b71a2a3",
   "metadata": {},
   "outputs": [],
   "source": [
    "%%R -i dat_sim\n",
    "\n",
    "ggplot(data = dat_sim, aes(x = pwr, color = category, fill = category)) + geom_density() +\n",
    "  facet_wrap(~subj_id)"
   ]
  },
  {
   "cell_type": "markdown",
   "id": "1f72de4a",
   "metadata": {},
   "source": [
    "### 3.1 Python"
   ]
  },
  {
   "cell_type": "code",
   "execution_count": null,
   "id": "000fb576",
   "metadata": {},
   "outputs": [],
   "source": [
    "sns.displot(data=dat_sim, x=\"pwr\", hue=\"category\", col=\"subj_id\",\n",
    "            kind=\"kde\", col_wrap=4, fill=True, alpha=0.5);"
   ]
  },
  {
   "cell_type": "markdown",
   "id": "2111e52a",
   "metadata": {},
   "source": [
    "## 4. Modeling the balanced dataset\n",
    "\n",
    "### 4.1 Partial-pooling model (LMEM)\n",
    "* In Python, we'll use the *bambi* package.\n",
    "* In R, we'll use the *lmer* package."
   ]
  },
  {
   "cell_type": "markdown",
   "id": "b063d5c1",
   "metadata": {},
   "source": [
    "#### 4.1.1 R"
   ]
  },
  {
   "cell_type": "code",
   "execution_count": null,
   "id": "d46cbd97",
   "metadata": {},
   "outputs": [],
   "source": [
    "%%R -i dat_sim\n",
    "\n",
    "model_partial <- lmer(pwr ~ category + (1 + category | subj_id), data = dat_sim)\n",
    "summary(model_partial, corr = FALSE)"
   ]
  },
  {
   "cell_type": "code",
   "execution_count": null,
   "id": "0868148a",
   "metadata": {},
   "outputs": [],
   "source": [
    "%%R\n",
    "\n",
    "null_model <- lmer(pwr ~ (category|subj_id), data = dat_sim)\n",
    "aov_res <- anova(model_partial, null_model)\n",
    "aov_res$`Pr(>Chisq)`[2]"
   ]
  },
  {
   "cell_type": "markdown",
   "id": "e9b6f6c9",
   "metadata": {},
   "source": [
    "#### 4.1.1 Python"
   ]
  },
  {
   "cell_type": "code",
   "execution_count": null,
   "id": "f36d5fcd",
   "metadata": {},
   "outputs": [],
   "source": [
    "model_partial = bambi.Model(\"pwr ~ category + (1 + category | subj_id)\", data = dat_sim)\n",
    "i_partial = model_partial.fit()\n",
    "az.summary(i_partial)"
   ]
  },
  {
   "cell_type": "markdown",
   "id": "da81e991",
   "metadata": {},
   "source": [
    "### 4.2 Complete-pooling model (simple linear regression)"
   ]
  },
  {
   "cell_type": "markdown",
   "id": "a55f3717",
   "metadata": {},
   "source": [
    "#### 4.2.1 R"
   ]
  },
  {
   "cell_type": "code",
   "execution_count": null,
   "id": "555a86a3",
   "metadata": {},
   "outputs": [],
   "source": [
    "%%R\n",
    "\n",
    "model_pooled <- lm(pwr ~ category, data = dat_sim)\n",
    "summary(model_pooled)"
   ]
  },
  {
   "cell_type": "markdown",
   "id": "6ac85100",
   "metadata": {},
   "source": [
    "#### 4.2.1 Python"
   ]
  },
  {
   "cell_type": "code",
   "execution_count": null,
   "id": "54c7e3cf",
   "metadata": {},
   "outputs": [],
   "source": [
    "model_pooled = bambi.Model(\"pwr ~ category\", data = dat_sim)\n",
    "i_pooled = model_pooled.fit()\n",
    "az.summary(i_pooled)"
   ]
  },
  {
   "cell_type": "markdown",
   "id": "2c77f3b2",
   "metadata": {},
   "source": [
    "### 4.3 No-pooling model (repeated-measures ANOVA)"
   ]
  },
  {
   "cell_type": "markdown",
   "id": "8dedba3f",
   "metadata": {},
   "source": [
    "#### 4.3.1 R"
   ]
  },
  {
   "cell_type": "code",
   "execution_count": null,
   "id": "3c68f7b0",
   "metadata": {},
   "outputs": [],
   "source": [
    "%%R\n",
    "\n",
    "aovMod <- aov(pwr ~ category + Error(factor(subj_id)), data = dat_sim)\n",
    "print(summary(aovMod))\n",
    "\n",
    "avgDat <- dat_sim %>%\n",
    "  group_by(subj_id, category) %>%\n",
    "  summarize(meanPwr = mean(pwr))\n",
    "\n",
    "t.test(meanPwr ~ category, data = avgDat, paired = TRUE)"
   ]
  },
  {
   "cell_type": "markdown",
   "id": "cea8589b",
   "metadata": {},
   "source": [
    "#### 4.3.1 Python"
   ]
  },
  {
   "cell_type": "code",
   "execution_count": null,
   "id": "147b161e",
   "metadata": {},
   "outputs": [],
   "source": [
    "model_unpooled = bambi.Model(\"pwr ~ (category | subj_id)\", data = dat_sim)\n",
    "i_unpooled = model_unpooled.fit()\n",
    "az.summary(i_unpooled)"
   ]
  },
  {
   "cell_type": "markdown",
   "id": "00b21499",
   "metadata": {},
   "source": [
    "## 5. Comparing model fits and estimates"
   ]
  },
  {
   "cell_type": "markdown",
   "id": "65808e72",
   "metadata": {},
   "source": [
    "### 5.1 Visualize observed data"
   ]
  },
  {
   "cell_type": "markdown",
   "id": "5c268c07",
   "metadata": {},
   "source": [
    "#### 5.1.1 R"
   ]
  },
  {
   "cell_type": "code",
   "execution_count": null,
   "id": "02bace4a",
   "metadata": {},
   "outputs": [],
   "source": [
    "%%R\n",
    "\n",
    "dat_sim$Subject <- dat_sim$subj_id\n",
    "\n",
    "ggplot(data = dat_sim, mapping=aes(x=category, y=pwr, color = category))+\n",
    "  geom_point() + facet_wrap(~subj_id)"
   ]
  },
  {
   "cell_type": "markdown",
   "id": "d545b747",
   "metadata": {},
   "source": [
    "#### 5.1.1 Python"
   ]
  },
  {
   "cell_type": "code",
   "execution_count": null,
   "id": "9bdba91b",
   "metadata": {},
   "outputs": [],
   "source": [
    "sns.relplot(data=dat_sim, x=\"category\", y=\"pwr\", hue=\"category\", col=\"subj_id\", \n",
    "                kind=\"scatter\", col_wrap=4);"
   ]
  },
  {
   "cell_type": "markdown",
   "id": "9c9970f4",
   "metadata": {},
   "source": [
    "### 5.2 Visualize intercepts and slopes - Complete vs. No pooling"
   ]
  },
  {
   "cell_type": "markdown",
   "id": "b973630e",
   "metadata": {},
   "source": [
    "#### 5.2.1 R"
   ]
  },
  {
   "cell_type": "code",
   "execution_count": null,
   "id": "082f1bbe",
   "metadata": {},
   "outputs": [],
   "source": [
    "%%R\n",
    "\n",
    "# fit a no pooling model\n",
    "df_no_pooling <- lmList(pwr ~ category | subj_id, data = dat_sim) %>% \n",
    "  coef() %>% \n",
    "  # Subject IDs are stored as row-names. Make them an explicit column\n",
    "  rownames_to_column(\"Subject\") %>% \n",
    "  rename(Intercept = `(Intercept)`, Slope_Cond = categorystanding) %>% \n",
    "  add_column(Model = \"No pooling\")"
   ]
  },
  {
   "cell_type": "code",
   "execution_count": null,
   "id": "a319a5ac",
   "metadata": {},
   "outputs": [],
   "source": [
    "%%R\n",
    "\n",
    "df_no_pooling$Subject <- as.integer(df_no_pooling$Subject)\n",
    "\n",
    "#fit a complete pooling mode\n",
    "m_pooled <- lm(pwr ~ category, dat_sim) \n",
    "\n",
    "# Repeat the intercept and slope terms for each participant\n",
    "df_pooled <- tibble(\n",
    "  Model = \"Complete pooling\",\n",
    "  Subject = unique(dat_sim$subj_id),\n",
    "  Intercept = coef(m_pooled)[1], \n",
    "  Slope_Cond = coef(m_pooled)[2]\n",
    ")"
   ]
  },
  {
   "cell_type": "markdown",
   "id": "18e18e93",
   "metadata": {},
   "source": [
    "#### 5.2.1 Python !!!TBC!!!"
   ]
  },
  {
   "cell_type": "code",
   "execution_count": null,
   "id": "bbbbce0e",
   "metadata": {},
   "outputs": [],
   "source": [
    "df = az.summary(i_pooled)\n",
    "\n",
    "df_pooled = pd.DataFrame()\n",
    "df_pooled[\"Subject\"] = np.arange(1,17)\n",
    "df_pooled[\"Intercept\"] = [df[\"mean\"][\"Intercept\"]] * 16\n",
    "df_pooled[\"Slope_Cond\"] = [df[\"mean\"][\"category[standing]\"]] * 16\n",
    "df_pooled[\"Model\"] = [\"Complete pooling\"] * 16\n",
    "\n",
    "df = az.summary(i_pooled)\n",
    "\n",
    "df_pooled = pd.DataFrame()\n",
    "df_pooled[\"Subject\"] = np.arange(1,17)\n",
    "df_pooled[\"Intercept\"] = [df[\"mean\"][\"Intercept\"]] * 16\n",
    "df_pooled[\"Slope_Cond\"] = [df[\"mean\"][\"category[standing]\"]] * 16\n",
    "df_pooled[\"Model\"] = [\"Complete pooling\"] * 16"
   ]
  },
  {
   "cell_type": "markdown",
   "id": "b6ca3cc1",
   "metadata": {},
   "source": [
    "### 5.3 Visualize intercepts and slopes - Complete vs. No vs. Partial pooling"
   ]
  },
  {
   "cell_type": "markdown",
   "id": "07d45bed",
   "metadata": {},
   "source": [
    "#### 5.3.1 R"
   ]
  },
  {
   "cell_type": "code",
   "execution_count": null,
   "id": "d7ac94e5",
   "metadata": {},
   "outputs": [],
   "source": [
    "%%R\n",
    "\n",
    "df_models <- bind_rows(df_pooled, df_no_pooling) %>% \n",
    "  left_join(dat_sim, by = \"Subject\")\n",
    "\n",
    "# Join the raw data so we can use plot the points and the lines.\n",
    "df_models <- bind_rows(df_pooled, df_no_pooling) %>% \n",
    "  left_join(dat_sim, by = \"Subject\")\n",
    "\n",
    "p_model_comparison <- ggplot(df_models) + \n",
    "  aes(x = category, y = pwr) + \n",
    "  # Set the color mapping in this layer so the points don't get a color\n",
    "  geom_abline(\n",
    "    aes(intercept = Intercept-Slope_Cond, slope = Slope_Cond, color = Model),\n",
    "    size = .75\n",
    "  ) + \n",
    "  geom_point() +\n",
    "  facet_wrap(\"Subject\") +\n",
    "  theme(legend.position = \"top\", legend.justification = \"left\")\n",
    "\n",
    "p_model_comparison"
   ]
  },
  {
   "cell_type": "code",
   "execution_count": null,
   "id": "00372d70",
   "metadata": {},
   "outputs": [],
   "source": [
    "%%R\n",
    "\n",
    "#mod_sim\n",
    "df_partial_pooling <- coef(model_partial)[[\"subj_id\"]] %>% \n",
    "  rownames_to_column(\"Subject\") %>% \n",
    "  as_tibble() %>% \n",
    "  rename(Intercept = `(Intercept)`, Slope_Cond = categorystanding) %>% \n",
    "  add_column(Model = \"Partial pooling\")\n",
    "\n",
    "df_partial_pooling$Subject <- as.integer(df_partial_pooling$Subject)\n",
    "\n",
    "df_models <- bind_rows(df_pooled, df_no_pooling, df_partial_pooling) %>% \n",
    "  left_join(dat_sim, by = \"Subject\")\n",
    "# Replace the data-set of the last plot\n",
    "p_model_comparison %+% df_models"
   ]
  },
  {
   "cell_type": "code",
   "execution_count": null,
   "id": "5ca34ed1",
   "metadata": {},
   "outputs": [],
   "source": [
    "%%R\n",
    "\n",
    "df_no_pooling$Subject <- as.integer(df_no_pooling$Subject)\n",
    "\n",
    "df_fixef <- tibble(\n",
    "  Model = \"Partial pooling (average)\",\n",
    "  Intercept = fixef(model_partial)[1],\n",
    "  Slope_Cond = fixef(model_partial)[2]\n",
    ")\n",
    "\n",
    "df_shrink <- df_pooled %>% \n",
    "  distinct(Model, Intercept, Slope_Cond) %>% \n",
    "  bind_rows(df_fixef)\n",
    "df_shrink"
   ]
  },
  {
   "cell_type": "code",
   "execution_count": null,
   "id": "8c64b855",
   "metadata": {},
   "outputs": [],
   "source": [
    "%%R\n",
    "\n",
    "df_pulled <- bind_rows(df_no_pooling, df_partial_pooling)\n",
    "\n",
    "ggplot(df_pulled) + \n",
    "  aes(x = Intercept, y = Slope_Cond, color = Model, shape = Model) + \n",
    "  geom_point(size = 2) + \n",
    "  geom_point(\n",
    "    data = df_shrink, \n",
    "    size = 5,\n",
    "    # Prevent size-5 point from showing in legend keys\n",
    "    show.legend = FALSE\n",
    "  ) + \n",
    "  # Draw an arrow connecting the observations between models\n",
    "  geom_path(\n",
    "    aes(group = Subject, color = NULL), \n",
    "    arrow = arrow(length = unit(.02, \"npc\")),\n",
    "    show.legend = FALSE\n",
    "  )  + \n",
    "  ggtitle(\"Pooling of regression parameters\") + \n",
    "  xlab(\"Intercept estimate\") + \n",
    "  ylab(\"Slope estimate\")"
   ]
  },
  {
   "cell_type": "markdown",
   "id": "a5100d93",
   "metadata": {},
   "source": [
    "### 5.4 Compare effect-size estimates"
   ]
  },
  {
   "cell_type": "markdown",
   "id": "b4bf06fa",
   "metadata": {},
   "source": [
    "#### 5.4.1 R"
   ]
  },
  {
   "cell_type": "code",
   "execution_count": null,
   "id": "86170f6f",
   "metadata": {},
   "outputs": [],
   "source": [
    "%%R\n",
    "\n",
    "print(\"Estimated Effect Sizes\")\n",
    "\n",
    "est_slope = df_pooled$Slope_Cond\n",
    "\n",
    "df_pooled$Subject\n",
    "\n",
    "ggplot(df_pooled) + \n",
    "  aes(x=Intercept, y=Slope_Cond) + \n",
    "  geom_point()\n",
    "\n",
    "print(paste(\"Pooled model = \", mean(est_slope) / sd(est_slope)))\n",
    "\n",
    "est_slope = df_no_pooling$Slope_Cond\n",
    "\n",
    "df_no_pooling$Subject\n",
    "\n",
    "ggplot(df_no_pooling) + \n",
    "  aes(x=Intercept, y=Slope_Cond) + \n",
    "  geom_point()\n",
    "\n",
    "print(paste(\"No-pooling model = \", mean(est_slope) / sd(est_slope)))\n",
    "\n",
    "est_slope = df_partial_pooling$Slope_Cond\n",
    "\n",
    "df_partial_pooling$Subject\n",
    "\n",
    "ggplot(df_partial_pooling) + \n",
    "  aes(x=Intercept, y=Slope_Cond) + \n",
    "  geom_point()\n",
    "\n",
    "print(paste(\"Partial-pooling model = \", mean(est_slope) / sd(est_slope)))\n",
    "\n",
    "a <- avgDat %>% filter(category==\"seated\")\n",
    "a <- a$meanPwr\n",
    "\n",
    "b <- avgDat %>% filter(category==\"standing\")\n",
    "b <- b$meanPwr\n",
    "\n",
    "print(paste(\"Paired t-test = \", mean(b-a) / sd(b-a)))"
   ]
  },
  {
   "cell_type": "markdown",
   "id": "ce89954d",
   "metadata": {},
   "source": [
    "#### 5.4.1 Python"
   ]
  },
  {
   "cell_type": "code",
   "execution_count": null,
   "id": "f6560a3d",
   "metadata": {},
   "outputs": [],
   "source": [
    "sns.set()\n",
    "\n",
    "df = az.summary(i_unpooled)\n",
    "\n",
    "mu_se = df[\"mean\"][0] + df[\"mean\"][2:18].values\n",
    "mu_st = df[\"mean\"][0] + df[\"mean\"][2:18].values + df[\"mean\"][19:35].values\n",
    "\n",
    "est_slope = mu_st - mu_se\n",
    "\n",
    "plt.scatter(x=mu_se, y=est_slope)\n",
    "\n",
    "# print([np.mean(est_slope), np.std(est_slope)])\n",
    "print(\"Unpooled model : Est. Effect size = \", np.mean(est_slope) / np.std(est_slope))"
   ]
  },
  {
   "cell_type": "markdown",
   "id": "cf38c882",
   "metadata": {},
   "source": [
    "### 5.5 Compare observed means to posterior estimates"
   ]
  },
  {
   "cell_type": "markdown",
   "id": "b20d813e",
   "metadata": {},
   "source": [
    "#### 5.5.1 R"
   ]
  },
  {
   "cell_type": "code",
   "execution_count": null,
   "id": "e7854f66",
   "metadata": {},
   "outputs": [],
   "source": [
    "%%R\n",
    "\n",
    "df_all <- bind_rows(df_pooled, df_no_pooling, df_partial_pooling)\n",
    "\n",
    "ggplot(df_all) + \n",
    "  aes(x = Subject, y = Slope_Cond, color=Model) + \n",
    "  geom_point(size = 2) + \n",
    "  geom_point(\n",
    "    data = df_all, \n",
    "    size = 2,\n",
    "    # Prevent size-5 point from showing in legend keys\n",
    "    show.legend = FALSE\n",
    "  ) +\n",
    "  scale_x_continuous(breaks=seq(0,15,1)) + \n",
    "  theme(panel.grid.minor = element_blank()) + \n",
    "  facet_grid(cols = vars(Model))"
   ]
  },
  {
   "cell_type": "markdown",
   "id": "bd1af269",
   "metadata": {},
   "source": [
    "#### 5.5.1 Python !!! TBC !!!"
   ]
  },
  {
   "cell_type": "code",
   "execution_count": null,
   "id": "3e9f99a6",
   "metadata": {},
   "outputs": [],
   "source": [
    "df = az.summary(i_pooled)\n",
    "\n",
    "df_pooled = pd.DataFrame()\n",
    "df_pooled[\"Subject\"] = np.arange(1,17)\n",
    "df_pooled[\"Intercept\"] = [df[\"mean\"][\"Intercept\"]] * 16\n",
    "df_pooled[\"Slope_Cond\"] = [df[\"mean\"][\"category[standing]\"]] * 16\n",
    "df_pooled[\"Model\"] = [\"Complete pooling\"] * 16\n",
    "\n",
    "df_pooled"
   ]
  },
  {
   "cell_type": "markdown",
   "id": "2911bf5b",
   "metadata": {},
   "source": [
    "## 6. Using LMEMs to model unbalanced datasets"
   ]
  },
  {
   "cell_type": "markdown",
   "id": "df9138f2",
   "metadata": {},
   "source": [
    "### 6.1 Model the messy dataset - Complete pooling"
   ]
  },
  {
   "cell_type": "markdown",
   "id": "c624bab8",
   "metadata": {},
   "source": [
    "#### 6.1.1 Python"
   ]
  },
  {
   "cell_type": "code",
   "execution_count": null,
   "id": "d00f4d20",
   "metadata": {},
   "outputs": [],
   "source": [
    "model_pooled_messy = bambi.Model(\"pwr ~ category\", data = dat_mess)\n",
    "i_pooled_messy = model_pooled_messy.fit()\n",
    "az.summary(i_pooled_messy)"
   ]
  },
  {
   "cell_type": "markdown",
   "id": "c23a1a5b",
   "metadata": {},
   "source": [
    "### 6.2 Model the messy dataset - No Pooling"
   ]
  },
  {
   "cell_type": "code",
   "execution_count": null,
   "id": "44e53ed0",
   "metadata": {},
   "outputs": [],
   "source": [
    "model_unpooled_messy = bambi.Model(\"pwr ~ (category | subj_id)\", data = dat_mess)\n",
    "i_unpooled_messy = model_unpooled_messy.fit()\n",
    "az.summary(i_unpooled_messy)"
   ]
  },
  {
   "cell_type": "code",
   "execution_count": null,
   "id": "b3d2be16",
   "metadata": {},
   "outputs": [],
   "source": [
    "import numpy as np\n",
    "x = [12.72, -52.69, 49.87, 10.55, 8.23, 71.81, 45.52, 45.9, 58.73, 60.94, 60.95, 43.72, 104.29, -10.75, 68.88, -0.75]\n",
    "print([np.mean(x), np.std(x)]) \n"
   ]
  },
  {
   "cell_type": "markdown",
   "id": "77eee8f3",
   "metadata": {},
   "source": [
    "### 6.3 Model the messy dataset - Partial Pooling"
   ]
  },
  {
   "cell_type": "code",
   "execution_count": null,
   "id": "c29ef081",
   "metadata": {},
   "outputs": [],
   "source": [
    "model_partial_messy = bambi.Model(\"pwr ~ category + (1 + category | subj_id)\", data = dat_mess)\n",
    "i_partial_messy = model_partial_messy.fit()\n",
    "az.summary(i_partial_messy)"
   ]
  },
  {
   "cell_type": "markdown",
   "id": "5b98f7f5",
   "metadata": {},
   "source": [
    "### 6.4 Visualize uncertainty and predictions"
   ]
  },
  {
   "cell_type": "markdown",
   "id": "c4f77906",
   "metadata": {},
   "source": [
    "#### 6.4.1 Python"
   ]
  },
  {
   "cell_type": "code",
   "execution_count": null,
   "id": "a1785d7e",
   "metadata": {
    "scrolled": true
   },
   "outputs": [],
   "source": [
    "df = az.summary(i_partial_messy)\n",
    "\n",
    "sns.set()\n",
    "sns.set_palette(\"colorblind\")\n",
    "\n",
    "fig, ax = plt.subplots(figsize=(8,5))\n",
    "\n",
    "mu_subj = df[\"mean\"][0] + df[\"mean\"][1] + df[\"mean\"][3:19].values + df[\"mean\"][20:36].values\n",
    "\n",
    "sd_subj = df[\"sd\"][20:36].values\n",
    "k = mu_subj.argsort()\n",
    "x = np.arange(1,17)\n",
    "\n",
    "plt.errorbar(x, mu_subj[k], sd_subj[k], ls=\"none\", capsize=3, color=\"grey\", label=\"Posterior ($\\pm$SD)\")\n",
    "\n",
    "# mu_subj = df[\"mean\"][0] + df[\"mean\"][3:19].values\n",
    "# sd_subj = df[\"sd\"][3:19].values\n",
    "# plt.errorbar(x, mu_subj[k], sd_subj[k], ls=\"none\", capsize=3, color=\"r\")\n",
    "\n",
    "observed = dat_mess[dat_mess[\"category\"]==\"standing\"].groupby(\"subj_id\")[\"pwr\"].mean().values\n",
    "observed = np.insert(observed, [15], np.nan)\n",
    "plt.scatter(x, observed[k], c=\"b\", label=\"Observed\")\n",
    "\n",
    "# observed2 = dat_mess[dat_mess[\"category\"]==\"seated\"].groupby(\"subj_id\")[\"pwr\"].mean().values\n",
    "# plt.scatter(x, observed2[k], c=\"r\", label=\"Observed seated\")\n",
    "\n",
    "ax.set_xticklabels(x[k]);\n",
    "ax.set_xticks(x);\n",
    "\n",
    "plt.xlabel(\"Subject ID\")\n",
    "plt.ylabel(\"Maximal 30 s Power Output (W)\")\n",
    "plt.title(\"Observations vs. posterior estimates for standing posture\")\n",
    "plt.legend()\n",
    "\n",
    "plt.savefig(\"partial_obsVpred.png\", dpi=300)"
   ]
  },
  {
   "cell_type": "markdown",
   "id": "a86b5386",
   "metadata": {},
   "source": [
    "## 7. Adding effects to LMEMs"
   ]
  },
  {
   "cell_type": "markdown",
   "id": "f121a13f",
   "metadata": {},
   "source": [
    "### 7.1 Add factor of footwear to balanced dataset"
   ]
  },
  {
   "cell_type": "markdown",
   "id": "bd66cac3",
   "metadata": {},
   "source": [
    "#### 7.1.1 R"
   ]
  },
  {
   "cell_type": "code",
   "execution_count": null,
   "id": "b56f2b8e",
   "metadata": {},
   "outputs": [],
   "source": [
    "%%R\n",
    "\n",
    "dat_sim$footwear <- rep(c(rep('shoe1',3), rep('shoe2',3)),30)\n",
    "\n",
    "ggplot(dat_sim, aes(x = category, y = pwr, color = footwear, fill = footwear)) +\n",
    "  geom_point() + geom_jitter(width = 0.1, height = 0.1) + facet_wrap(~Subject)"
   ]
  },
  {
   "cell_type": "markdown",
   "id": "b85b51b6",
   "metadata": {},
   "source": [
    "### 7.2 Add footwear effect to model"
   ]
  },
  {
   "cell_type": "markdown",
   "id": "34b112bc",
   "metadata": {},
   "source": [
    "#### 7.2.1 R"
   ]
  },
  {
   "cell_type": "code",
   "execution_count": null,
   "id": "32c0c85f",
   "metadata": {},
   "outputs": [],
   "source": [
    "twoMod <- lmer(pwr ~ category + footwear + (category|Subject), data = dat_sim)\n",
    "summary(twoMod)"
   ]
  },
  {
   "cell_type": "markdown",
   "id": "7e4f837b",
   "metadata": {},
   "source": [
    "### 7.3 Add interaction term to model"
   ]
  },
  {
   "cell_type": "markdown",
   "id": "b160001f",
   "metadata": {},
   "source": [
    "#### 7.3.1 R"
   ]
  },
  {
   "cell_type": "code",
   "execution_count": null,
   "id": "c9cbc765",
   "metadata": {},
   "outputs": [],
   "source": [
    "%%R\n",
    "\n",
    "intMod <- lmer(pwr ~ category * footwear + (category|Subject), data = dat_sim)\n",
    "summary(intMod)\n",
    "plot_model(intMod)"
   ]
  },
  {
   "cell_type": "markdown",
   "id": "690b7355",
   "metadata": {},
   "source": [
    "### 7.4 Visualize interaction"
   ]
  },
  {
   "cell_type": "markdown",
   "id": "924335ad",
   "metadata": {},
   "source": [
    "#### 7.4.1 R"
   ]
  },
  {
   "cell_type": "code",
   "execution_count": null,
   "id": "6e27dbb9",
   "metadata": {},
   "outputs": [],
   "source": [
    "plot_model(intMod, type = 'pred', terms = c(\"category\", \"footwear\"))"
   ]
  },
  {
   "cell_type": "code",
   "execution_count": null,
   "id": "56b9a4b2",
   "metadata": {},
   "outputs": [],
   "source": []
  },
  {
   "cell_type": "code",
   "execution_count": null,
   "id": "d2457fa5",
   "metadata": {},
   "outputs": [],
   "source": []
  }
 ],
 "metadata": {
  "kernelspec": {
   "display_name": "Python 3",
   "language": "python",
   "name": "python3"
  },
  "language_info": {
   "codemirror_mode": {
    "name": "ipython",
    "version": 3
   },
   "file_extension": ".py",
   "mimetype": "text/x-python",
   "name": "python",
   "nbconvert_exporter": "python",
   "pygments_lexer": "ipython3",
   "version": "3.8.8"
  }
 },
 "nbformat": 4,
 "nbformat_minor": 5
}
